{
  "nbformat": 4,
  "nbformat_minor": 0,
  "metadata": {
    "colab": {
      "name": "Practical Lab Exam 1.ipynb",
      "provenance": [],
      "authorship_tag": "ABX9TyMscK63QIFi2U69snJc09YT",
      "include_colab_link": true
    },
    "kernelspec": {
      "name": "python3",
      "display_name": "Python 3"
    },
    "language_info": {
      "name": "python"
    }
  },
  "cells": [
    {
      "cell_type": "markdown",
      "metadata": {
        "id": "view-in-github",
        "colab_type": "text"
      },
      "source": [
        "<a href=\"https://colab.research.google.com/github/ArganaAdrian/Linear-Algebra-58020/blob/main/Practical_Lab_Exam_1.ipynb\" target=\"_parent\"><img src=\"https://colab.research.google.com/assets/colab-badge.svg\" alt=\"Open In Colab\"/></a>"
      ]
    },
    {
      "cell_type": "code",
      "metadata": {
        "colab": {
          "base_uri": "https://localhost:8080/"
        },
        "id": "ViUzG9cIFAbe",
        "outputId": "7c47496d-2b5a-4ed0-beb1-107dd04f03ee"
      },
      "source": [
        "import numpy as np\n",
        " #Answer for 1 A\n",
        "W = np.array([[1,-3],[2,-2],[3,1]])\n",
        "Y = np.array ([[1,2,0],[0,-1,-2]])\n",
        "print(np.dot(W,Y))"
      ],
      "execution_count": 28,
      "outputs": [
        {
          "output_type": "stream",
          "name": "stdout",
          "text": [
            "[[ 1  5  6]\n",
            " [ 2  6  4]\n",
            " [ 3  5 -2]]\n"
          ]
        }
      ]
    },
    {
      "cell_type": "code",
      "metadata": {
        "colab": {
          "base_uri": "https://localhost:8080/"
        },
        "id": "eAJNoZy8QCI9",
        "outputId": "a0fc4445-087e-4dd8-9054-b6a79e222003"
      },
      "source": [
        "#Answer for 1 B\n",
        "Z = np.array([[0,1],[2,3]])\n",
        "Z = np.array([[0,1],[2,3]])\n",
        "print (Z+Z)"
      ],
      "execution_count": 29,
      "outputs": [
        {
          "output_type": "stream",
          "name": "stdout",
          "text": [
            "[[0 2]\n",
            " [4 6]]\n"
          ]
        }
      ]
    },
    {
      "cell_type": "code",
      "metadata": {
        "colab": {
          "base_uri": "https://localhost:8080/"
        },
        "id": "OTrwKgINRE4N",
        "outputId": "d1b6b55b-c28b-49b6-f70a-d04b1074dec5"
      },
      "source": [
        "#Answer for 1 C\n",
        "X = np.array([[3,2,1],[-1,2,3],[2,-1,-1]])\n",
        "print (3*X)"
      ],
      "execution_count": 30,
      "outputs": [
        {
          "output_type": "stream",
          "name": "stdout",
          "text": [
            "[[ 9  6  3]\n",
            " [-3  6  9]\n",
            " [ 6 -3 -3]]\n"
          ]
        }
      ]
    },
    {
      "cell_type": "code",
      "metadata": {
        "colab": {
          "base_uri": "https://localhost:8080/"
        },
        "id": "2T75jM8xYBUi",
        "outputId": "6c545334-37a3-437b-98a9-98213f8bbf64"
      },
      "source": [
        "#Answer for 2 A\n",
        "Y = np.array([[1,2,0],[0,-1,2]])\n",
        "W = np.array([[1,-3],[2,-2],[3,1]])\n",
        "print(np.dot(Y,W)^2)"
      ],
      "execution_count": 31,
      "outputs": [
        {
          "output_type": "stream",
          "name": "stdout",
          "text": [
            "[[ 7 -5]\n",
            " [ 6  6]]\n"
          ]
        }
      ]
    },
    {
      "cell_type": "code",
      "metadata": {
        "colab": {
          "base_uri": "https://localhost:8080/"
        },
        "id": "xGE13S3lY3__",
        "outputId": "68bb6c19-137a-40f4-d8f1-9923677eea3d"
      },
      "source": [
        "#Answer for 2 B\n",
        "R = np.dot(W,Y)\n",
        "R"
      ],
      "execution_count": 32,
      "outputs": [
        {
          "output_type": "execute_result",
          "data": {
            "text/plain": [
              "array([[ 1,  5, -6],\n",
              "       [ 2,  6, -4],\n",
              "       [ 3,  5,  2]])"
            ]
          },
          "metadata": {},
          "execution_count": 32
        }
      ]
    },
    {
      "cell_type": "code",
      "metadata": {
        "colab": {
          "base_uri": "https://localhost:8080/"
        },
        "id": "EqDDfUVnZqpK",
        "outputId": "72ffb16e-3b19-4bed-c9df-82202f59444b"
      },
      "source": [
        "#Answer for 2 B\n",
        "print(np.subtract(R,X))"
      ],
      "execution_count": 33,
      "outputs": [
        {
          "output_type": "stream",
          "name": "stdout",
          "text": [
            "[[-2  3 -7]\n",
            " [ 3  4 -7]\n",
            " [ 1  6  3]]\n"
          ]
        }
      ]
    },
    {
      "cell_type": "code",
      "metadata": {
        "colab": {
          "base_uri": "https://localhost:8080/"
        },
        "id": "HQ2mRp3Ya3ol",
        "outputId": "db168983-032f-4091-b06f-b0759166b861"
      },
      "source": [
        "#Answer for 2 C\n",
        "Y = np.array([[1,2,0],[0,-1,2]])\n",
        "W = np.array([[1,-3],[2,-2],[3,1]])\n",
        "Z = np.array([[0,1],[2,3]])\n",
        "print(np.dot(Y,W)-Z^2)"
      ],
      "execution_count": 34,
      "outputs": [
        {
          "output_type": "stream",
          "name": "stdout",
          "text": [
            "[[ 7 -6]\n",
            " [ 0  3]]\n"
          ]
        }
      ]
    }
  ]
}