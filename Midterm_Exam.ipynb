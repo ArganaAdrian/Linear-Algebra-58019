{
  "nbformat": 4,
  "nbformat_minor": 0,
  "metadata": {
    "colab": {
      "name": "Midterm Exam.ipynb",
      "provenance": [],
      "authorship_tag": "ABX9TyOl928lW1d3xfFhBhiVMa6w",
      "include_colab_link": true
    },
    "kernelspec": {
      "name": "python3",
      "display_name": "Python 3"
    },
    "language_info": {
      "name": "python"
    }
  },
  "cells": [
    {
      "cell_type": "markdown",
      "metadata": {
        "id": "view-in-github",
        "colab_type": "text"
      },
      "source": [
        "<a href=\"https://colab.research.google.com/github/ArganaAdrian/Linear-Algebra-58020/blob/main/Midterm_Exam.ipynb\" target=\"_parent\"><img src=\"https://colab.research.google.com/assets/colab-badge.svg\" alt=\"Open In Colab\"/></a>"
      ]
    },
    {
      "cell_type": "markdown",
      "metadata": {
        "id": "bMt8Yk2F-QeC"
      },
      "source": [
        "# Question 1"
      ]
    },
    {
      "cell_type": "code",
      "metadata": {
        "colab": {
          "base_uri": "https://localhost:8080/"
        },
        "id": "SxnkcKua-LZ7",
        "outputId": "4beaf592-b9b8-4821-f099-5df7de1c6180"
      },
      "source": [
        "import numpy as np\n",
        "A = np.array([[25,24,23,22,21],[20,19,18,17,16],[15,14,13,12,11],[10,9,8,7,6],[1,4,3,6,9]])\n",
        "print(A)"
      ],
      "execution_count": 1,
      "outputs": [
        {
          "output_type": "stream",
          "name": "stdout",
          "text": [
            "[[25 24 23 22 21]\n",
            " [20 19 18 17 16]\n",
            " [15 14 13 12 11]\n",
            " [10  9  8  7  6]\n",
            " [ 1  4  3  6  9]]\n"
          ]
        }
      ]
    },
    {
      "cell_type": "markdown",
      "metadata": {
        "id": "oxq9b9d8AdKB"
      },
      "source": [
        "# Question 2"
      ]
    },
    {
      "cell_type": "code",
      "metadata": {
        "colab": {
          "base_uri": "https://localhost:8080/"
        },
        "id": "PnMfJBvDAe2C",
        "outputId": "cdece73c-8bab-4b97-c704-fb2a1aefb2ef"
      },
      "source": [
        "import numpy as np \n",
        "A = np.array([[1,1,1,1],[0,1,1,1],[0,0,1,1],[0,0,0,1]])\n",
        "print(A)"
      ],
      "execution_count": 5,
      "outputs": [
        {
          "output_type": "stream",
          "name": "stdout",
          "text": [
            "[[1 1 1 1]\n",
            " [0 1 1 1]\n",
            " [0 0 1 1]\n",
            " [0 0 0 1]]\n"
          ]
        }
      ]
    },
    {
      "cell_type": "markdown",
      "metadata": {
        "id": "bNeBKZOGAfRo"
      },
      "source": [
        "# Question 3"
      ]
    },
    {
      "cell_type": "code",
      "metadata": {
        "colab": {
          "base_uri": "https://localhost:8080/"
        },
        "id": "qpXjVGvcAg0a",
        "outputId": "663d4bbf-7c0f-4df5-8982-044a3dc54f1f"
      },
      "source": [
        "import numpy as np\n",
        "\n",
        "A =np.array([[6,1,6],[1,5,2],[6,2,7]])\n",
        "print(A)\n",
        "print(\"/n\")\n",
        "\n",
        "print(np.transpose(A))"
      ],
      "execution_count": 12,
      "outputs": [
        {
          "output_type": "stream",
          "name": "stdout",
          "text": [
            "[[6 1 6]\n",
            " [1 5 2]\n",
            " [6 2 7]]\n",
            "/n\n",
            "[[6 1 6]\n",
            " [1 5 2]\n",
            " [6 2 7]]\n"
          ]
        }
      ]
    },
    {
      "cell_type": "markdown",
      "metadata": {
        "id": "jP_zf84s-o_w"
      },
      "source": [
        "# Question 4"
      ]
    },
    {
      "cell_type": "code",
      "metadata": {
        "colab": {
          "base_uri": "https://localhost:8080/"
        },
        "id": "bNS-ayRy-opV",
        "outputId": "cf74df27-802a-43c7-9724-280c03a0d60f"
      },
      "source": [
        "A=np.array(([[1,2,3],[2,3,3],[3,4,-2]]))\n",
        "B=(np.linalg.inv(A))\n",
        "print(B)"
      ],
      "execution_count": 4,
      "outputs": [
        {
          "output_type": "stream",
          "name": "stdout",
          "text": [
            "[[-3.6  3.2 -0.6]\n",
            " [ 2.6 -2.2  0.6]\n",
            " [-0.2  0.4 -0.2]]\n"
          ]
        }
      ]
    },
    {
      "cell_type": "markdown",
      "metadata": {
        "id": "kjbRbEIaC6M8"
      },
      "source": [
        "#Question 5"
      ]
    },
    {
      "cell_type": "code",
      "metadata": {
        "colab": {
          "base_uri": "https://localhost:8080/"
        },
        "id": "RiwXrxxGC8M-",
        "outputId": "f9921f81-7172-462a-f304-a9ec60abf7a6"
      },
      "source": [
        "import numpy as np\n",
        "A = np.array([[1,2,3],[2,3,3],[3,4,-2]])\n",
        "print(A)\n",
        "print(np.linalg.det(A))\n",
        "print(round(np.linalg.det(A)))"
      ],
      "execution_count": 6,
      "outputs": [
        {
          "output_type": "stream",
          "name": "stdout",
          "text": [
            "[[ 1  2  3]\n",
            " [ 2  3  3]\n",
            " [ 3  4 -2]]\n",
            "5.000000000000001\n",
            "5\n"
          ]
        }
      ]
    },
    {
      "cell_type": "markdown",
      "metadata": {
        "id": "mqHVAPewDXWf"
      },
      "source": [
        "#Question 6"
      ]
    },
    {
      "cell_type": "code",
      "metadata": {
        "colab": {
          "base_uri": "https://localhost:8080/"
        },
        "id": "H-KVcUtQDZVX",
        "outputId": "7584713f-95f4-4d56-c4a1-3c219b8b8277"
      },
      "source": [
        "import numpy as np\n",
        "c = np.array([[5,4,1],[10,9,4],[10,13,15]])\n",
        "inv_c = np.linalg.inv(c)\n",
        "print(c)\n",
        "print()\n",
        "print(inv_c)\n",
        "\n",
        "d = np.array([[3.4],[8.8],[19.2]])\n",
        "\n",
        "x = np.dot(inv_c, d)\n",
        "print(\"roots =\")\n",
        "print(x)\n",
        "\n",
        "z=np.dot(c, x) #checking\n",
        "print(\"checking =\")\n",
        "print(z)"
      ],
      "execution_count": 11,
      "outputs": [
        {
          "output_type": "stream",
          "name": "stdout",
          "text": [
            "[[ 5  4  1]\n",
            " [10  9  4]\n",
            " [10 13 15]]\n",
            "\n",
            "[[ 5.53333333 -3.13333333  0.46666667]\n",
            " [-7.33333333  4.33333333 -0.66666667]\n",
            " [ 2.66666667 -1.66666667  0.33333333]]\n",
            "roots =\n",
            "[[0.2]\n",
            " [0.4]\n",
            " [0.8]]\n",
            "checking =\n",
            "[[ 3.4]\n",
            " [ 8.8]\n",
            " [19.2]]\n"
          ]
        }
      ]
    }
  ]
}