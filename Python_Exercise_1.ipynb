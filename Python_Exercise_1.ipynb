{
  "nbformat": 4,
  "nbformat_minor": 0,
  "metadata": {
    "colab": {
      "name": "Python Exercise 1.ipynb",
      "provenance": [],
      "authorship_tag": "ABX9TyNDjm7zQ5sQJTtDamB7m7d1",
      "include_colab_link": true
    },
    "kernelspec": {
      "name": "python3",
      "display_name": "Python 3"
    },
    "language_info": {
      "name": "python"
    }
  },
  "cells": [
    {
      "cell_type": "markdown",
      "metadata": {
        "id": "view-in-github",
        "colab_type": "text"
      },
      "source": [
        "<a href=\"https://colab.research.google.com/github/ArganaAdrian/Linear-Algebra-58019/blob/main/Python_Exercise_1.ipynb\" target=\"_parent\"><img src=\"https://colab.research.google.com/assets/colab-badge.svg\" alt=\"Open In Colab\"/></a>"
      ]
    },
    {
      "cell_type": "code",
      "metadata": {
        "colab": {
          "base_uri": "https://localhost:8080/"
        },
        "id": "00c2wIgtYH5d",
        "outputId": "63b24915-0bc9-4bec-928a-d01652b1e06a"
      },
      "source": [
        "#sum = A + B\n",
        "import numpy as np\n",
        "A = np.array(([-5,0],[4,1]))\n",
        "B = np.array(([6,-3],[2,3]))\n",
        "print (A+B)"
      ],
      "execution_count": 7,
      "outputs": [
        {
          "output_type": "stream",
          "name": "stdout",
          "text": [
            "[[ 1 -3]\n",
            " [ 6  4]]\n"
          ]
        }
      ]
    },
    {
      "cell_type": "code",
      "metadata": {
        "colab": {
          "base_uri": "https://localhost:8080/"
        },
        "id": "ub4A1GdkYQ7m",
        "outputId": "61361a7d-d5d9-4b2d-a37f-eadbc28765ed"
      },
      "source": [
        "#difference1 = A - B\n",
        "A = np.array(([-5,0],[4,1]))\n",
        "B = np.array(([6,-3],[2,3]))\n",
        "print (A-B)"
      ],
      "execution_count": 8,
      "outputs": [
        {
          "output_type": "stream",
          "name": "stdout",
          "text": [
            "[[-11   3]\n",
            " [  2  -2]]\n"
          ]
        }
      ]
    },
    {
      "cell_type": "code",
      "metadata": {
        "colab": {
          "base_uri": "https://localhost:8080/"
        },
        "id": "lEZhIWB8Z9WO",
        "outputId": "b831bc56-cb29-47f3-d3a6-eaf6383b9775"
      },
      "source": [
        "#difference2 = B - B\n",
        "B=np.array(([6,-3],[2,3]))\n",
        "B=np.array(([6,-3],[2,3]))\n",
        "print (B-B)"
      ],
      "execution_count": 9,
      "outputs": [
        {
          "output_type": "stream",
          "name": "stdout",
          "text": [
            "[[0 0]\n",
            " [0 0]]\n"
          ]
        }
      ]
    }
  ]
}