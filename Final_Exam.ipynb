{
  "nbformat": 4,
  "nbformat_minor": 0,
  "metadata": {
    "colab": {
      "name": "Final Exam.ipynb",
      "provenance": [],
      "authorship_tag": "ABX9TyMKJpJhTtZErTkcBj5zftrV",
      "include_colab_link": true
    },
    "kernelspec": {
      "name": "python3",
      "display_name": "Python 3"
    },
    "language_info": {
      "name": "python"
    }
  },
  "cells": [
    {
      "cell_type": "markdown",
      "metadata": {
        "id": "view-in-github",
        "colab_type": "text"
      },
      "source": [
        "<a href=\"https://colab.research.google.com/github/ArganaAdrian/Linear-Algebra-58020/blob/main/Final_Exam.ipynb\" target=\"_parent\"><img src=\"https://colab.research.google.com/assets/colab-badge.svg\" alt=\"Open In Colab\"/></a>"
      ]
    },
    {
      "cell_type": "markdown",
      "source": [
        "\n",
        "##Problem 1\n",
        "```\n",
        "\n",
        "\n"
      ],
      "metadata": {
        "id": "0G6iRHu1VtLA"
      }
    },
    {
      "cell_type": "code",
      "source": [
        "import numpy as np\n",
        "A = np.array([[1, 1, 1],[1, 0, 4],[0, 0, 5]])\n",
        "print(f'Matrix A:\\n {A}')\n",
        "print()\n",
        "B = np.array([[89],[89],[95]])\n",
        "print(f'Matrix B:\\n {A}')\n",
        "C = np.linalg.inv(A).dot(B)\n",
        "print(f'\\nInverse of Matrix A:\\n{C}')"
      ],
      "metadata": {
        "colab": {
          "base_uri": "https://localhost:8080/"
        },
        "id": "UXtI8QaiVsak",
        "outputId": "f4ecdd44-08d6-4370-c0d9-1f845eb1b4d8"
      },
      "execution_count": 7,
      "outputs": [
        {
          "output_type": "stream",
          "name": "stdout",
          "text": [
            "Matrix A:\n",
            " [[1 1 1]\n",
            " [1 0 4]\n",
            " [0 0 5]]\n",
            "\n",
            "Matrix B:\n",
            " [[1 1 1]\n",
            " [1 0 4]\n",
            " [0 0 5]]\n",
            "\n",
            "Inverse of Matrix A:\n",
            "[[13.]\n",
            " [57.]\n",
            " [19.]]\n"
          ]
        }
      ]
    },
    {
      "cell_type": "markdown",
      "source": [
        "##Problem 2"
      ],
      "metadata": {
        "id": "9TL0CGtmYTaT"
      }
    },
    {
      "cell_type": "code",
      "source": [
        ""
      ],
      "metadata": {
        "id": "2DopyEuZYUtK"
      },
      "execution_count": null,
      "outputs": []
    },
    {
      "cell_type": "markdown",
      "source": [
        "##Problem 3"
      ],
      "metadata": {
        "id": "8KAosxfNLzxB"
      }
    },
    {
      "cell_type": "code",
      "execution_count": 5,
      "metadata": {
        "colab": {
          "base_uri": "https://localhost:8080/"
        },
        "id": "wR9K9ud5I-Zr",
        "outputId": "7508a185-6a6a-42d6-c6cd-2a0ed547c07d"
      },
      "outputs": [
        {
          "output_type": "stream",
          "name": "stdout",
          "text": [
            "[[  8   5   6]\n",
            " [-12  -9  12]\n",
            " [ -3  -3   5]] \n",
            "\n",
            "The Eigenvalues are: \n",
            " [0.5+5.80947502j 0.5-5.80947502j 3. +0.j        ]\n",
            "The Eigenvectors are: \n",
            " [[-0.-0.j -0.+0.j  1.+0.j]\n",
            " [ 1.+0.j  1.-0.j -1.+0.j]\n",
            " [ 0.+0.j  0.-0.j  0.+0.j]]\n"
          ]
        }
      ],
      "source": [
        "import numpy as np\n",
        "from numpy.linalg import eig\n",
        "\n",
        "A = np.array([[8,5,6],[-12,-9,12],[-3,-3,5]])\n",
        "print(A,\"\\n\")\n",
        "w,v = np.linalg.eig(A)\n",
        "\n",
        "print(\"The Eigenvalues are: \\n\",w)\n",
        "print(\"The Eigenvectors are: \\n\",v.round())"
      ]
    }
  ]
}